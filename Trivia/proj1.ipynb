{
 "cells": [
  {
   "cell_type": "code",
   "execution_count": 1,
   "id": "500bc564",
   "metadata": {},
   "outputs": [
    {
     "name": "stdout",
     "output_type": "stream",
     "text": [
      "1. What is the largest ocean on Earth?\n",
      "Wrong !!😭😢😭 the correct ans is: Pacific Ocean.\n",
      "\n",
      "2. Who was the first President of the United States?\n",
      "Wrong !!😭😢😭 the correct ans is: George Washington.\n",
      "\n",
      "3. Which country is known as the Land of the Rising Sun?\n",
      "Wrong !!😭😢😭 the correct ans is: Japan.\n",
      "\n",
      "4. What is the national sport of India?\n",
      "Wrong !!😭😢😭 the correct ans is: Hockey.\n",
      "\n",
      "5. How many players are on a standard soccer team?\n",
      "Wrong !!😭😢😭 the correct ans is: 11.\n",
      "\n",
      "Game Over !! Your final score 0/5\n"
     ]
    }
   ],
   "source": [
    "import random\n",
    "questions = {\n",
    "    \"Who was the first President of the United States?\": \"George Washington\",\n",
    "    \"What is the chemical symbol for water?\": \"H2O\",\n",
    "    \"What is the capital city of Japan?\": \"Tokyo\",\n",
    "    \"Who played the character Iron Man in the Marvel Cinematic Universe?\": \"Robert Downey Jr.\",\n",
    "    \"How many players are on a standard soccer team?\": \"11\",\n",
    "    \"Who wrote the novel 'Pride and Prejudice'?\": \"Jane Austen\",\n",
    "    \"What year did the first iPhone release?\": \"2007\",\n",
    "    \"What is the fastest land animal in the world?\": \"Cheetah\",\n",
    "    \"What planet is known as the Red Planet?\": \"Mars\",\n",
    "    \"In Greek mythology, who is the god of the sea?\": \"Poseidon\",\n",
    "    \"Which country is known as the Land of the Rising Sun?\": \"Japan\",\n",
    "    \"What is the boiling point of water in Celsius?\": \"100\",\n",
    "    \"Who directed the movie 'Inception'?\": \"Christopher Nolan\",\n",
    "    \"What is the national sport of India?\": \"Hockey\",\n",
    "    \"Who discovered gravity?\": \"Isaac Newton\",\n",
    "    \"What is the largest ocean on Earth?\": \"Pacific Ocean\",\n",
    "    \"What does DNA stand for?\": \"Deoxyribonucleic Acid\",\n",
    "    \"What is the square root of 144?\": \"12\",\n",
    "    \"Who painted the Mona Lisa?\": \"Leonardo da Vinci\",\n",
    "    \"What is the smallest country in the world?\": \"Vatican City\"\n",
    "}\n",
    "\n",
    "def python_trivia_game():\n",
    "    question_list = list(questions.keys())\n",
    "    total_questions = 5\n",
    "    score = 0\n",
    "\n",
    "    selected_questions = random.sample(question_list , total_questions) #randpomly  selects the q from the list of q\n",
    "\n",
    "    for idx , question in enumerate(selected_questions): # enumerate provides the idx of each q and q's value too\n",
    "         print(f\"{idx+1}. {question}\")\n",
    "         user_answer = input(\"Your answer: \").lower().strip() # strip removes the spaces\n",
    "         correct_answer = questions[question]\n",
    "\n",
    "         if user_answer == correct_answer.lower():\n",
    "              print(\"Correct , 😃😊😊 !! \\n\")\n",
    "              score += 1\n",
    "         else:\n",
    "              print(f\"Wrong !!😭😢😭 the correct ans is: {correct_answer}.\\n\")\n",
    "    print(f\"Game Over !! Your final score {score}/{total_questions}\")\n",
    "python_trivia_game()"
   ]
  }
 ],
 "metadata": {
  "kernelspec": {
   "display_name": "Python 3",
   "language": "python",
   "name": "python3"
  },
  "language_info": {
   "codemirror_mode": {
    "name": "ipython",
    "version": 3
   },
   "file_extension": ".py",
   "mimetype": "text/x-python",
   "name": "python",
   "nbconvert_exporter": "python",
   "pygments_lexer": "ipython3",
   "version": "3.13.3"
  }
 },
 "nbformat": 4,
 "nbformat_minor": 5
}
